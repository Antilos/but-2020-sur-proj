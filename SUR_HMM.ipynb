{
 "cells": [
  {
   "cell_type": "code",
   "execution_count": 5,
   "metadata": {},
   "outputs": [
    {
     "name": "stdout",
     "output_type": "stream",
     "text": [
      "Import OK!\n"
     ]
    }
   ],
   "source": [
    "import os\n",
    "import glob\n",
    "\n",
    "import numpy as np\n",
    "from scipy.io import wavfile\n",
    "from hmmlearn import hmm\n",
    "from python_speech_features import mfcc\n",
    "\n",
    "print(\"Import OK!\")"
   ]
  },
  {
   "cell_type": "markdown",
   "metadata": {},
   "source": [
    "Wrapper class for Hidden Markov clasiffier."
   ]
  },
  {
   "cell_type": "code",
   "execution_count": 6,
   "metadata": {},
   "outputs": [],
   "source": [
    "# Class to handle all HMM related processing\n",
    "class HMMTrainer(object):\n",
    "    def __init__(self, model_name='GaussianHMM', n_components=4, cov_type='diag', n_iter=1000):\n",
    "        self.model_name = model_name\n",
    "        self.n_components = n_components\n",
    "        self.cov_type = cov_type\n",
    "        self.n_iter = n_iter\n",
    "        self.models = []\n",
    "\n",
    "        if self.model_name == 'GaussianHMM':\n",
    "            self.model = hmm.GaussianHMM(n_components=self.n_components, \n",
    "                    covariance_type=self.cov_type, n_iter=self.n_iter)\n",
    "        else:\n",
    "            raise TypeError('Invalid model type')\n",
    "\n",
    "    # X is a 2D numpy array where each row is 13D\n",
    "    def train(self, X):\n",
    "        np.seterr(all='ignore')\n",
    "        self.models.append(self.model.fit(X))\n",
    "\n",
    "    # Run the model on input data\n",
    "    def get_score(self, input_data):\n",
    "        return self.model.score(input_data)"
   ]
  },
  {
   "cell_type": "markdown",
   "metadata": {},
   "source": [
    "Train HMMs on audio data"
   ]
  },
  {
   "cell_type": "code",
   "execution_count": 8,
   "metadata": {},
   "outputs": [
    {
     "name": "stdout",
     "output_type": "stream",
     "text": [
      "Training OK!\n"
     ]
    }
   ],
   "source": [
    "targetTrainDir = \"target_train\"\n",
    "nonTargetTrainDir = \"non_target_train\"\n",
    "\n",
    "hmm_target = None\n",
    "hmm_nonTarget = None\n",
    "\n",
    "#Train target (1) HMM\n",
    "X = np.array([])\n",
    "\n",
    "for f in glob.glob(targetTrainDir + '/*.wav'):\n",
    "    fs, s = wavfile.read(f)\n",
    "    mfcc_features = mfcc(s, fs)\n",
    "    \n",
    "    if len(X) == 0:\n",
    "        X = mfcc_features\n",
    "    else:\n",
    "        X = np.append(X, mfcc_features, axis=0)\n",
    "    y.append(1)\n",
    "    \n",
    "hmm_trainer = HMMTrainer()\n",
    "hmm_trainer.train(X)\n",
    "hmm_target = hmm_trainer\n",
    "hmm_trainer = None\n",
    "\n",
    "#Train nonTarget (0) HMM\n",
    "X = np.array([])\n",
    "y = []\n",
    "\n",
    "for f in glob.glob(nonTargetTrainDir + '/*.wav'):\n",
    "    fs, s = wavfile.read(f)\n",
    "    mfcc_features = mfcc(s, fs)\n",
    "    \n",
    "    if len(X) == 0:\n",
    "        X = mfcc_features\n",
    "    else:\n",
    "        X = np.append(X, mfcc_features, axis=0)\n",
    "    y.append(0)\n",
    "    \n",
    "hmm_trainer = HMMTrainer()\n",
    "hmm_trainer.train(X)\n",
    "hmm_nonTarget = hmm_trainer\n",
    "hmm_trainer = None\n",
    "\n",
    "print(\"Training OK!\")"
   ]
  },
  {
   "cell_type": "markdown",
   "metadata": {},
   "source": [
    "Evaluate on Dev audio data"
   ]
  },
  {
   "cell_type": "code",
   "execution_count": 9,
   "metadata": {},
   "outputs": [
    {
     "name": "stdout",
     "output_type": "stream",
     "text": [
      "Incorrect, should be Target: Target=-30977.466761692842, Non Target=-29553.702472552293\n",
      "Incorrect, should be Target: Target=-36183.05850890484, Non Target=-35316.21983860671\n",
      "Incorrect, should be Target: Target=-38593.1828540726, Non Target=-37905.03709356334\n",
      "Incorrect, should be Target: Target=-61577.633526465805, Non Target=-61258.89854393109\n",
      "Incorrect, should be Target: Target=-53296.04252445513, Non Target=-52311.97092274584\n",
      "Incorrect, should be Target: Target=-40640.60301224684, Non Target=-39479.10158917778\n",
      "Incorrect, should be Target: Target=-40071.71907996566, Non Target=-39270.28988456595\n",
      "Incorrect, should be Target: Target=-44374.683695206855, Non Target=-43740.70619126588\n",
      "Incorrect, should be Target: Target=-47591.7120054944, Non Target=-46912.795851192284\n",
      "Incorrect, should be Target: Target=-39187.65366579915, Non Target=-37828.11664225013\n",
      "Correct as Non Target: Target=-69439.9608612688, Non Target=-67060.84285209308\n",
      "Correct as Non Target: Target=-40610.057285864495, Non Target=-39495.82644314136\n",
      "Correct as Non Target: Target=-51085.169120643855, Non Target=-48830.65692164208\n",
      "Correct as Non Target: Target=-30417.858210395163, Non Target=-29922.289848439777\n",
      "Correct as Non Target: Target=-42614.97847193858, Non Target=-40081.911925540604\n",
      "Correct as Non Target: Target=-27399.134398072816, Non Target=-26699.078567433946\n",
      "Correct as Non Target: Target=-40120.51562825634, Non Target=-37474.81640176006\n",
      "Correct as Non Target: Target=-38373.028245020105, Non Target=-36004.204477232444\n",
      "Correct as Non Target: Target=-33821.62703344868, Non Target=-32132.113697018653\n",
      "Correct as Non Target: Target=-32496.02350511121, Non Target=-31115.51184552616\n",
      "Correct as Non Target: Target=-57751.708951311644, Non Target=-56362.32787443023\n",
      "Correct as Non Target: Target=-44184.47886584631, Non Target=-44039.81367889831\n",
      "Correct as Non Target: Target=-54327.75620048801, Non Target=-52877.40262529609\n",
      "Correct as Non Target: Target=-37471.41838047855, Non Target=-36188.44000023717\n",
      "Correct as Non Target: Target=-61949.09186252906, Non Target=-60930.36454750078\n",
      "Correct as Non Target: Target=-48285.6280374792, Non Target=-46585.487364251654\n",
      "Correct as Non Target: Target=-72766.8068679585, Non Target=-70328.86147905115\n",
      "Correct as Non Target: Target=-37452.946994554964, Non Target=-37005.47168957633\n",
      "Correct as Non Target: Target=-58272.548479191, Non Target=-56245.022530271446\n",
      "Correct as Non Target: Target=-49657.7789119083, Non Target=-48437.507492927994\n",
      "Correct as Non Target: Target=-69504.36227823663, Non Target=-66008.7609343346\n",
      "Correct as Non Target: Target=-37329.938167316985, Non Target=-35019.15106089332\n",
      "Correct as Non Target: Target=-65593.22917977297, Non Target=-62775.001579227115\n",
      "Correct as Non Target: Target=-42622.35295192071, Non Target=-40761.77908200282\n",
      "Correct as Non Target: Target=-61045.6385446117, Non Target=-58328.8655353028\n",
      "Correct as Non Target: Target=-39384.140625847285, Non Target=-37792.97345240816\n",
      "Correct as Non Target: Target=-60752.561110114686, Non Target=-57909.28918814156\n",
      "Correct as Non Target: Target=-36944.65790824817, Non Target=-34816.97811115819\n",
      "Correct as Non Target: Target=-54041.93267463246, Non Target=-51620.25481593952\n",
      "Correct as Non Target: Target=-37779.48895212737, Non Target=-36508.1936837635\n",
      "Incorrect, should be Non Target: Target=-85600.89376241027, Non Target=-85795.05827262341\n",
      "Incorrect, should be Non Target: Target=-32751.429743992005, Non Target=-33274.0621969623\n",
      "Incorrect, should be Non Target: Target=-62142.8918358525, Non Target=-62295.35996039506\n",
      "Correct as Non Target: Target=-65381.14793935512, Non Target=-64498.83803140079\n",
      "Correct as Non Target: Target=-104046.96091142947, Non Target=-100264.12081644095\n",
      "Correct as Non Target: Target=-61467.01815240976, Non Target=-59181.52121781426\n",
      "Correct as Non Target: Target=-96086.74196490768, Non Target=-93279.40747181907\n",
      "Correct as Non Target: Target=-118497.64604861797, Non Target=-115123.04011115718\n",
      "Correct as Non Target: Target=-105558.6901020284, Non Target=-102217.71938353332\n",
      "Correct as Non Target: Target=-60703.6503698797, Non Target=-59779.38964818217\n",
      "Incorrect, should be Non Target: Target=-45597.77161275035, Non Target=-46242.20953786331\n",
      "Incorrect, should be Non Target: Target=-32800.45772894435, Non Target=-33341.98633256929\n",
      "Incorrect, should be Non Target: Target=-66457.5091009989, Non Target=-66759.54661516071\n",
      "Correct as Non Target: Target=-46084.836032695406, Non Target=-45663.15409632654\n",
      "Correct as Non Target: Target=-68081.19481544071, Non Target=-67915.1492995429\n",
      "Incorrect, should be Non Target: Target=-37416.51992466785, Non Target=-37440.054992154845\n",
      "Correct as Non Target: Target=-87272.04665475822, Non Target=-85662.02026956351\n",
      "Correct as Non Target: Target=-56082.19880999686, Non Target=-55138.8299883589\n",
      "Correct as Non Target: Target=-97621.26689371545, Non Target=-96828.82821741262\n",
      "Correct as Non Target: Target=-38352.08104751943, Non Target=-37968.9866861514\n",
      "Correct as Non Target: Target=-96701.97171512933, Non Target=-96372.14433561462\n",
      "Correct as Non Target: Target=-91869.02234527025, Non Target=-91599.5103640881\n",
      "Correct as Non Target: Target=-58786.47743533883, Non Target=-58289.48992098952\n",
      "Correct as Non Target: Target=-43855.91881790322, Non Target=-43773.0805193635\n",
      "Correct as Non Target: Target=-59670.536100998936, Non Target=-58593.850820568\n",
      "Correct as Non Target: Target=-91107.75426025804, Non Target=-89236.92182970766\n",
      "Correct as Non Target: Target=-156672.9444217861, Non Target=-152864.9876025802\n",
      "Correct as Non Target: Target=-95373.78905956038, Non Target=-92277.21386133239\n",
      "Correct as Non Target: Target=-127798.98142565816, Non Target=-125690.45404768213\n",
      "Correct as Non Target: Target=-111176.43445720377, Non Target=-107014.87081849924\n",
      "75.71428571428571%; 53 correct, 17 incorrect.\n",
      "Evaluation OK!\n"
     ]
    }
   ],
   "source": [
    "targetTestDir = \"target_dev\"\n",
    "nonTargetTestDir = \"non_target_dev\"\n",
    "\n",
    "correct = 0\n",
    "incorrect = 0\n",
    "\n",
    "for f in glob.glob(targetTestDir + '/*.wav'):\n",
    "    fs, s = wavfile.read(f)\n",
    "    mfcc_features = mfcc(s, fs)\n",
    "    \n",
    "    targetScore = hmm_target.get_score(mfcc_features)\n",
    "    nonTargetScore = hmm_nonTarget.get_score(mfcc_features)\n",
    "    \n",
    "    if(targetScore >= nonTargetScore):\n",
    "        print(f'Correct as Target: Target={targetScore}, Non Target={nonTargetScore}')\n",
    "        correct += 1\n",
    "    else:\n",
    "        print(f'Incorrect, should be Target: Target={targetScore}, Non Target={nonTargetScore}')\n",
    "        incorrect += 1\n",
    "\n",
    "for f in glob.glob(nonTargetTestDir + '/*.wav'):\n",
    "    fs, s = wavfile.read(f)\n",
    "    mfcc_features = mfcc(s, fs)\n",
    "    \n",
    "    targetScore = hmm_target.get_score(mfcc_features)\n",
    "    nonTargetScore = hmm_nonTarget.get_score(mfcc_features)\n",
    "    \n",
    "    if(targetScore < nonTargetScore):\n",
    "        print(f'Correct as Non Target: Target={targetScore}, Non Target={nonTargetScore}')\n",
    "        correct += 1\n",
    "    else:\n",
    "        print(f'Incorrect, should be Non Target: Target={targetScore}, Non Target={nonTargetScore}')\n",
    "        incorrect += 1\n",
    "        \n",
    "print(f\"{(correct)/(correct+incorrect)*100}%; {correct} correct, {incorrect} incorrect.\")\n",
    "print(\"Evaluation OK!\")"
   ]
  }
 ],
 "metadata": {
  "kernelspec": {
   "display_name": "Python 3",
   "language": "python",
   "name": "python3"
  },
  "language_info": {
   "codemirror_mode": {
    "name": "ipython",
    "version": 3
   },
   "file_extension": ".py",
   "mimetype": "text/x-python",
   "name": "python",
   "nbconvert_exporter": "python",
   "pygments_lexer": "ipython3",
   "version": "3.7.4"
  }
 },
 "nbformat": 4,
 "nbformat_minor": 4
}
