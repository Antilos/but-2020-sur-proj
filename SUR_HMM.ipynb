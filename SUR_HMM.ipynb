{
 "cells": [
  {
   "cell_type": "code",
   "execution_count": 8,
   "metadata": {},
   "outputs": [
    {
     "output_type": "stream",
     "name": "stdout",
     "text": "Import OK!\n"
    }
   ],
   "source": [
    "import os\n",
    "import glob\n",
    "\n",
    "import numpy as np\n",
    "from scipy.io import wavfile\n",
    "from hmmlearn import hmm\n",
    "from python_speech_features import mfcc\n",
    "\n",
    "from sklearn.metrics import confusion_matrix\n",
    "from sklearn.metrics import accuracy_score\n",
    "\n",
    "print(\"Import OK!\")"
   ]
  },
  {
   "cell_type": "markdown",
   "metadata": {},
   "source": [
    "Wrapper class for Hidden Markov clasiffier."
   ]
  },
  {
   "cell_type": "code",
   "execution_count": 9,
   "metadata": {},
   "outputs": [],
   "source": [
    "# Class to handle all HMM related processing\n",
    "class HMMTrainer(object):\n",
    "    def __init__(self, model_name='GaussianHMM', n_components=4, cov_type='diag', n_iter=1000, seed=42):\n",
    "        self.model_name = model_name\n",
    "        self.n_components = n_components\n",
    "        self.cov_type = cov_type\n",
    "        self.n_iter = n_iter\n",
    "        self.models = []\n",
    "\n",
    "        if self.model_name == 'GaussianHMM':\n",
    "            self.model = hmm.GaussianHMM(n_components=self.n_components, \n",
    "                    covariance_type=self.cov_type, n_iter=self.n_iter, random_state=seed)\n",
    "        else:\n",
    "            raise TypeError('Invalid model type')\n",
    "\n",
    "    # X is a 2D numpy array where each row is 13D\n",
    "    def train(self, X):\n",
    "        np.seterr(all='ignore')\n",
    "        self.models.append(self.model.fit(X))\n",
    "\n",
    "    # Run the model on input data\n",
    "    def get_score(self, input_data):\n",
    "        return self.model.score(input_data)"
   ]
  },
  {
   "cell_type": "markdown",
   "metadata": {},
   "source": [
    "Train HMMs on audio data"
   ]
  },
  {
   "cell_type": "code",
   "execution_count": 13,
   "metadata": {},
   "outputs": [],
   "source": [
    "def extractMFCCFromDir(dirName):\n",
    "    X = np.array([])\n",
    "    for f in glob.glob(targetTrainDir + '/*.wav'):\n",
    "        fs, s = wavfile.read(f)\n",
    "        mfcc_features = mfcc(s, fs)\n",
    "        \n",
    "        if len(X) == 0:\n",
    "            X = mfcc_features\n",
    "        else:\n",
    "            X = np.append(X, mfcc_features, axis=0)\n",
    "    \n",
    "    return X"
   ]
  },
  {
   "cell_type": "code",
   "execution_count": 15,
   "metadata": {
    "scrolled": true
   },
   "outputs": [
    {
     "output_type": "stream",
     "name": "stdout",
     "text": "Training OK!\n"
    }
   ],
   "source": [
    "targetTrainDir = \"target_train\"\n",
    "nonTargetTrainDir = \"non_target_train\"\n",
    "\n",
    "hmm_target = None\n",
    "hmm_nonTarget = None\n",
    "\n",
    "y = []\n",
    "\n",
    "#Train target (1) HMM\n",
    "X = extractMFCCFromDir(targetTrainDir)\n",
    "y.append([1 for i in range(len(X))])\n",
    "\n",
    "hmm_trainer = HMMTrainer()\n",
    "hmm_trainer.train(X)\n",
    "hmm_target = hmm_trainer\n",
    "hmm_trainer = None\n",
    "\n",
    "#Train nonTarget (0) HMM\n",
    "X = extractMFCCFromDir(nonTargetTrainDir)\n",
    "    \n",
    "hmm_trainer = HMMTrainer()\n",
    "hmm_trainer.train(X)\n",
    "hmm_nonTarget = hmm_trainer\n",
    "hmm_trainer = None\n",
    "\n",
    "print(\"Training OK!\")"
   ]
  },
  {
   "cell_type": "markdown",
   "metadata": {},
   "source": [
    "Evaluate on Dev audio data"
   ]
  },
  {
   "cell_type": "code",
   "execution_count": 17,
   "metadata": {},
   "outputs": [
    {
     "output_type": "stream",
     "name": "stdout",
     "text": "14.285714285714285%; 10 correct, 60 incorrect.\n[1, 1, 1, 1, 1, 1, 1, 1, 1, 1, 0, 0, 0, 0, 0, 0, 0, 0, 0, 0, 0, 0, 0, 0, 0, 0, 0, 0, 0, 0, 0, 0, 0, 0, 0, 0, 0, 0, 0, 0, 0, 0, 0, 0, 0, 0, 0, 0, 0, 0, 0, 0, 0, 0, 0, 0, 0, 0, 0, 0, 0, 0, 0, 0, 0, 0, 0, 0, 0, 0]\n[1, 1, 1, 1, 1, 1, 1, 1, 1, 1, 1, 1, 1, 1, 1, 1, 1, 1, 1, 1, 1, 1, 1, 1, 1, 1, 1, 1, 1, 1, 1, 1, 1, 1, 1, 1, 1, 1, 1, 1, 1, 1, 1, 1, 1, 1, 1, 1, 1, 1, 1, 1, 1, 1, 1, 1, 1, 1, 1, 1, 1, 1, 1, 1, 1, 1, 1, 1, 1, 1]\n0.14285714285714285\n[[ 0 60]\n [ 0 10]]\nEvaluation OK!\n"
    }
   ],
   "source": [
    "targetTestDir = \"target_dev\"\n",
    "nonTargetTestDir = \"non_target_dev\"\n",
    "\n",
    "correct = 0\n",
    "incorrect = 0\n",
    "\n",
    "yTest = []\n",
    "predictions = []\n",
    "\n",
    "for f in glob.glob(targetTestDir + '/*.wav'):\n",
    "    yTest.append(1)\n",
    "    fs, s = wavfile.read(f)\n",
    "    mfcc_features = mfcc(s, fs)\n",
    "    \n",
    "    targetScore = hmm_target.get_score(mfcc_features)\n",
    "    nonTargetScore = hmm_nonTarget.get_score(mfcc_features)\n",
    "    \n",
    "    if(targetScore >= nonTargetScore):\n",
    "        predictions.append(1)\n",
    "        # print(f'Correct as Target: Target={targetScore}, Non Target={nonTargetScore}')\n",
    "        correct += 1\n",
    "    else:\n",
    "        predictions.append(0)\n",
    "        #print(f'Incorrect, should be Target: Target={targetScore}, Non Target={nonTargetScore}')\n",
    "        incorrect += 1\n",
    "\n",
    "for f in glob.glob(nonTargetTestDir + '/*.wav'):\n",
    "    yTest.append(0)\n",
    "    fs, s = wavfile.read(f)\n",
    "    mfcc_features = mfcc(s, fs)\n",
    "    \n",
    "    targetScore = hmm_target.get_score(mfcc_features)\n",
    "    nonTargetScore = hmm_nonTarget.get_score(mfcc_features)\n",
    "    \n",
    "    if(targetScore < nonTargetScore):\n",
    "        predictions.append(0)\n",
    "        #print(f'Correct as Non Target: Target={targetScore}, Non Target={nonTargetScore}')\n",
    "        correct += 1\n",
    "    else:\n",
    "        predictions.append(1)\n",
    "        #print(f'Incorrect, should be Non Target: Target={targetScore}, Non Target={nonTargetScore}')\n",
    "        incorrect += 1\n",
    "\n",
    "print(f\"{(correct)/(correct+incorrect)*100}%; {correct} correct, {incorrect} incorrect.\")\n",
    "\n",
    "print(yTest)\n",
    "print(predictions)\n",
    "print(accuracy_score(yTest, predictions))\n",
    "print(confusion_matrix(yTest, predictions))\n",
    "\n",
    "print(\"Evaluation OK!\")"
   ]
  },
  {
   "cell_type": "code",
   "execution_count": null,
   "metadata": {},
   "outputs": [],
   "source": []
  }
 ],
 "metadata": {
  "kernelspec": {
   "display_name": "Python 3",
   "language": "python",
   "name": "python3"
  },
  "language_info": {
   "codemirror_mode": {
    "name": "ipython",
    "version": 3
   },
   "file_extension": ".py",
   "mimetype": "text/x-python",
   "name": "python",
   "nbconvert_exporter": "python",
   "pygments_lexer": "ipython3",
   "version": "3.7.4-final"
  }
 },
 "nbformat": 4,
 "nbformat_minor": 4
}