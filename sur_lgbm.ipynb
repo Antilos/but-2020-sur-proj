{
 "cells": [
  {
   "cell_type": "code",
   "execution_count": 9,
   "metadata": {},
   "outputs": [
    {
     "name": "stdout",
     "output_type": "stream",
     "text": [
      "Import OK!\n"
     ]
    }
   ],
   "source": [
    "import os\n",
    "import glob\n",
    "\n",
    "import numpy as np\n",
    "import cv2\n",
    "import lightgbm as lgbm\n",
    "\n",
    "from sklearn.metrics import confusion_matrix\n",
    "from sklearn.metrics import accuracy_score\n",
    "\n",
    "print('Import OK!')"
   ]
  },
  {
   "cell_type": "markdown",
   "metadata": {},
   "source": [
    "Read images and extract features  \n",
    "    Use canny algorithm to extract edges from images. Flatten the images into 1D vectors"
   ]
  },
  {
   "cell_type": "code",
   "execution_count": 2,
   "metadata": {},
   "outputs": [],
   "source": [
    "def loadDataFromDir(**dirNames):\n",
    "    #Image dimensions\n",
    "    imH = 80\n",
    "    imW = 80\n",
    "    \n",
    "    #Thresholding for canny edge detection\n",
    "    minVal = 50\n",
    "    maxVal = 250\n",
    "\n",
    "\n",
    "    X = np.array([])\n",
    "    y = []\n",
    "    \n",
    "    for label, dirName in dirNames.items():\n",
    "        for f in glob.glob(dirName + '/*.png'):\n",
    "            img = cv2.imread(f, cv2.IMREAD_GRAYSCALE)\n",
    "            img = img[:imH+1, :imW+1] #crop\n",
    "            edges = cv2.Canny(img, minVal, maxVal) #extract edges\n",
    "            edges = edges.reshape(np.prod(edges.shape)) #flatten\n",
    "            \n",
    "            #append\n",
    "            if len(X) == 0:\n",
    "                X = edges\n",
    "            else:\n",
    "                X = np.vstack((X, edges))\n",
    "            \n",
    "            assert label in ('target', 'nonTarget')\n",
    "            if(label == 'target'):\n",
    "                y.append(1)\n",
    "            elif(label == 'nonTarget'):\n",
    "                y.append(0)\n",
    "\n",
    "    return X, y"
   ]
  },
  {
   "cell_type": "code",
   "execution_count": 3,
   "metadata": {},
   "outputs": [
    {
     "name": "stdout",
     "output_type": "stream",
     "text": [
      "Feature extraction OK!\n"
     ]
    }
   ],
   "source": [
    "targetTrainDir = \"target_train\"\n",
    "nonTargetTrainDir = \"non_target_train\"\n",
    "\n",
    "#Read target data\n",
    "XTrain, yTrain = loadDataFromDir(target=targetTrainDir, nonTarget=nonTargetTrainDir)\n",
    "    \n",
    "print('Feature extraction OK!')"
   ]
  },
  {
   "cell_type": "markdown",
   "metadata": {},
   "source": [
    "Train the model  \n",
    "Use Light Gradient Boosting Machine (use scikit-learn api of ligthgbm)"
   ]
  },
  {
   "cell_type": "code",
   "execution_count": 23,
   "metadata": {},
   "outputs": [
    {
     "name": "stdout",
     "output_type": "stream",
     "text": [
      "Training OK!\n"
     ]
    }
   ],
   "source": [
    "gbmClassifier = lgbm.LGBMModel(objective='binary', random_state=42)\n",
    "gbmClassifier.fit(XTrain, yTrain)\n",
    "\n",
    "print('Training OK!')"
   ]
  },
  {
   "cell_type": "markdown",
   "metadata": {},
   "source": [
    "Evaluate the model"
   ]
  },
  {
   "cell_type": "code",
   "execution_count": 27,
   "metadata": {},
   "outputs": [
    {
     "name": "stdout",
     "output_type": "stream",
     "text": [
      "[0 0 0 0 0 0 0 0 0 0 0 0 0 0 0 0 0 0 0 0 1 0 0 0 0 0 0 0 0 0 0 0 0 0 0 0 0\n",
      " 0 0 0 0 0 0 0 0 0 0 0 0 0 0 0 0 0 0 0 0 0 0 0 0 0 0 0 0 0 0 0 0 0]\n",
      "[[59  1]\n",
      " [10  0]]\n",
      "0.8428571428571429\n"
     ]
    }
   ],
   "source": [
    "targetTestDir = \"target_dev\"\n",
    "nonTargetTestDir = \"non_target_dev\"\n",
    "\n",
    "XTest, yTest = loadDataFromDir(target=targetTestDir, nonTarget=nonTargetTestDir)\n",
    "\n",
    "predictions = gbmClassifier.predict(XTest)\n",
    "predictions = np.round(predictions)\n",
    "predictions = predictions.astype(int)\n",
    "\n",
    "print(predictions)\n",
    "print(confusion_matrix(yTest, predictions)) #[[TrueNegatives, TruePositives][FalseNegative, FalsePositives]]\n",
    "print(accuracy_score(yTest, predictions))\n"
   ]
  }
 ],
 "metadata": {
  "kernelspec": {
   "display_name": "Python 3",
   "language": "python",
   "name": "python3"
  },
  "language_info": {
   "codemirror_mode": {
    "name": "ipython",
    "version": 3
   },
   "file_extension": ".py",
   "mimetype": "text/x-python",
   "name": "python",
   "nbconvert_exporter": "python",
   "pygments_lexer": "ipython3",
   "version": "3.7.4"
  }
 },
 "nbformat": 4,
 "nbformat_minor": 4
}