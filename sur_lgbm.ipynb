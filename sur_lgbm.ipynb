{
 "cells": [
  {
   "cell_type": "code",
   "execution_count": 2,
   "metadata": {},
   "outputs": [
    {
     "name": "stdout",
     "output_type": "stream",
     "text": [
      "Import OK!\n"
     ]
    }
   ],
   "source": [
    "import os\n",
    "import glob\n",
    "\n",
    "import numpy as np\n",
    "import cv2\n",
    "import lightgbm as lgbm\n",
    "\n",
    "from sklearn.metrics import confusion_matrix\n",
    "from sklearn.metrics import accuracy_score\n",
    "\n",
    "print('Import OK!')"
   ]
  },
  {
   "cell_type": "markdown",
   "metadata": {},
   "source": [
    "Read images and extract features  \n",
    "    Use canny algorithm to extract edges from images. Flatten the images into 1D vectors"
   ]
  },
  {
   "cell_type": "code",
   "execution_count": 3,
   "metadata": {},
   "outputs": [],
   "source": [
    "def loadDataFromDir(**dirNames):\n",
    "    #Image dimensions\n",
    "    imH = 80\n",
    "    imW = 80\n",
    "    \n",
    "    #Thresholding for canny edge detection\n",
    "    minVal = 50\n",
    "    maxVal = 250\n",
    "\n",
    "\n",
    "    X = np.array([])\n",
    "    y = []\n",
    "    \n",
    "    for label, dirName in dirNames.items():\n",
    "        for f in glob.glob(dirName + '/*.png'):\n",
    "            img = cv2.imread(f, cv2.IMREAD_GRAYSCALE)\n",
    "            img = img[:imH+1, :imW+1] #crop\n",
    "            edges = cv2.Canny(img, minVal, maxVal) #extract edges\n",
    "            edges = edges.reshape(np.prod(edges.shape)) #flatten\n",
    "            \n",
    "            #append\n",
    "            if len(X) == 0:\n",
    "                X = edges\n",
    "            else:\n",
    "                X = np.vstack((X, edges))\n",
    "            \n",
    "            assert label in ('target', 'nonTarget')\n",
    "            if(label == 'target'):\n",
    "                y.append(1)\n",
    "            elif(label == 'nonTarget'):\n",
    "                y.append(0)\n",
    "\n",
    "    return X, y"
   ]
  },
  {
   "cell_type": "code",
   "execution_count": 4,
   "metadata": {},
   "outputs": [
    {
     "name": "stdout",
     "output_type": "stream",
     "text": [
      "Feature extraction OK!\n"
     ]
    }
   ],
   "source": [
    "targetTrainDir = \"target_train\"\n",
    "nonTargetTrainDir = \"non_target_train\"\n",
    "\n",
    "#Read target data\n",
    "XTrain, yTrain = loadDataFromDir(target=targetTrainDir, nonTarget=nonTargetTrainDir)\n",
    "    \n",
    "print('Feature extraction OK!')"
   ]
  },
  {
   "cell_type": "markdown",
   "metadata": {},
   "source": [
    "Train the model  \n",
    "Use Light Gradient Boosting Machine (use scikit-learn api of ligthgbm)"
   ]
  },
  {
   "cell_type": "code",
   "execution_count": 5,
   "metadata": {},
   "outputs": [
    {
     "name": "stdout",
     "output_type": "stream",
     "text": [
      "Training OK!\n"
     ]
    }
   ],
   "source": [
    "gbmClassifier = lgbm.LGBMModel(objective='binary', random_state=42)\n",
    "gbmClassifier.fit(XTrain, yTrain)\n",
    "\n",
    "print('Training OK!')"
   ]
  },
  {
   "cell_type": "markdown",
   "metadata": {},
   "source": [
    "Evaluate the model"
   ]
  },
  {
   "cell_type": "code",
   "execution_count": 7,
   "metadata": {},
   "outputs": [
    {
     "name": "stdout",
     "output_type": "stream",
     "text": [
      "[1.54826446e-03 1.49824092e-02 2.11942774e-03 2.85952035e-02\n",
      " 4.95397927e-02 5.22249095e-02 7.10623212e-03 8.42286084e-02\n",
      " 5.69187341e-03 4.95308067e-02 1.61312596e-02 7.33128778e-02\n",
      " 1.70236125e-04 1.87803412e-03 2.47104410e-03 3.23160273e-03\n",
      " 2.65171993e-02 1.61090304e-02 3.29030473e-03 5.51030835e-03\n",
      " 8.60686502e-01 4.06835038e-03 3.99315994e-04 3.39666912e-04\n",
      " 4.92515361e-04 3.24583701e-03 4.91446940e-03 4.53114273e-03\n",
      " 5.29707325e-04 1.11225379e-03 1.82126049e-04 6.79160603e-03\n",
      " 3.91174749e-03 2.59850528e-02 5.82785924e-05 2.87439672e-03\n",
      " 5.56301803e-03 3.38215765e-02 1.28602245e-03 4.69687569e-04\n",
      " 5.02983387e-02 1.08510380e-01 1.10031292e-03 8.44778517e-04\n",
      " 1.37598891e-02 3.12684218e-02 2.13709967e-04 8.20949284e-03\n",
      " 5.13404744e-03 2.19850269e-03 9.02042575e-03 2.10233776e-02\n",
      " 1.00787296e-01 3.95043713e-02 4.91735277e-04 1.13609263e-02\n",
      " 1.16521536e-02 2.74966301e-04 2.27506385e-03 8.70196940e-04\n",
      " 3.20400732e-01 6.44239046e-03 2.81906370e-03 1.11288731e-01\n",
      " 3.38750681e-02 1.91150654e-03 1.76502730e-02 5.62445534e-03\n",
      " 1.22699445e-03 1.94750426e-02]\n",
      "[0. 0. 0. 0. 0. 0. 0. 0. 0. 0. 0. 0. 0. 0. 0. 0. 0. 0. 0. 0. 1. 0. 0. 0.\n",
      " 0. 0. 0. 0. 0. 0. 0. 0. 0. 0. 0. 0. 0. 0. 0. 0. 0. 0. 0. 0. 0. 0. 0. 0.\n",
      " 0. 0. 0. 0. 0. 0. 0. 0. 0. 0. 0. 0. 0. 0. 0. 0. 0. 0. 0. 0. 0. 0.]\n",
      "[0 0 0 0 0 0 0 0 0 0 0 0 0 0 0 0 0 0 0 0 1 0 0 0 0 0 0 0 0 0 0 0 0 0 0 0 0\n",
      " 0 0 0 0 0 0 0 0 0 0 0 0 0 0 0 0 0 0 0 0 0 0 0 0 0 0 0 0 0 0 0 0 0]\n",
      "[[59  1]\n",
      " [10  0]]\n",
      "0.8428571428571429\n"
     ]
    }
   ],
   "source": [
    "targetTestDir = \"target_dev\"\n",
    "nonTargetTestDir = \"non_target_dev\"\n",
    "\n",
    "XTest, yTest = loadDataFromDir(target=targetTestDir, nonTarget=nonTargetTestDir)\n",
    "\n",
    "predictions = gbmClassifier.predict(XTest)\n",
    "print(predictions)\n",
    "predictions = np.round(predictions)\n",
    "print(predictions)\n",
    "predictions = predictions.astype(int)\n",
    "\n",
    "print(predictions)\n",
    "print(confusion_matrix(yTest, predictions)) #[[TrueNegatives, TruePositives][FalseNegative, FalsePositives]]\n",
    "print(accuracy_score(yTest, predictions))\n"
   ]
  },
  {
   "cell_type": "code",
   "execution_count": null,
   "metadata": {},
   "outputs": [],
   "source": []
  }
 ],
 "metadata": {
  "kernelspec": {
   "display_name": "Python 3",
   "language": "python",
   "name": "python3"
  },
  "language_info": {
   "codemirror_mode": {
    "name": "ipython",
    "version": 3
   },
   "file_extension": ".py",
   "mimetype": "text/x-python",
   "name": "python",
   "nbconvert_exporter": "python",
   "pygments_lexer": "ipython3",
   "version": "3.7.6"
  }
 },
 "nbformat": 4,
 "nbformat_minor": 4
}
